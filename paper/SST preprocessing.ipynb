{
 "cells": [
  {
   "cell_type": "code",
   "execution_count": 9,
   "metadata": {},
   "outputs": [
    {
     "name": "stdout",
     "output_type": "stream",
     "text": [
      "The autoreload extension is already loaded. To reload it, use:\n",
      "  %reload_ext autoreload\n"
     ]
    }
   ],
   "source": [
    "%matplotlib inline\n",
    "%load_ext autoreload\n",
    "%autoreload 2\n",
    "\n",
    "from matplotlib import pyplot as plt\n",
    "import seaborn as sns\n",
    "import pandas as pd\n",
    "import numpy as np\n",
    "import os, sys\n",
    "import itertools\n",
    "import pickle\n",
    "import h5py\n",
    "\n",
    "# local imports\n",
    "module_path = os.path.abspath(os.path.join('..'))\n",
    "if module_path not in sys.path:\n",
    "    sys.path.append(module_path)\n",
    "    \n",
    "from utils import *\n",
    "from gtv import *\n",
    "from preprocessing import *"
   ]
  },
  {
   "cell_type": "markdown",
   "metadata": {},
   "source": [
    "# SST Observations\n",
    "\n",
    "#### Download raw data [here](https://drive.google.com/drive/u/1/folders/1jQ3m8DI0m8Avl5dB3I2AacHuW1ZLWwpw)\n",
    "\n",
    "The file 'SST_Pacific.mat' includes monthly observations of sea surface temperature (in Celsius) over the Pacific Ocean during 01/1940-12/2018, from the COBE SST v2 dataset.\n",
    "\n",
    "Temperature over land is replaced with \"NaN\" values.\n",
    "\n",
    "The Pacific has been defined as:\n",
    "   - Latitudes: 60S-60N\n",
    "   - Longitudes: 80E-280E\n",
    "\n",
    "Particularly, the file 'SST_Pacific.mat' contains: \n",
    "\n",
    "   - 3D matrix 'SST_Pacif': 121 by 201 by 948\n",
    "   - vector 'lat': 121 by 1 which corresponds to the latitudinal points over Pacific \n",
    "   - vector 'lon': 201 by 1 which corresponds to the longitudinal points over Pacific \n",
    "   - 2D matrix 'dates': 948 by 2 which corresponds to the dates  \n",
    "   \n",
    "   "
   ]
  },
  {
   "cell_type": "code",
   "execution_count": 2,
   "metadata": {},
   "outputs": [],
   "source": [
    "# load .mat file\n",
    "monthly_atmo = {}\n",
    "with h5py.File('../data/SST_pacific.mat') as f:\n",
    "    for k,v in f.items():\n",
    "        monthly_atmo[k] = np.array(v)"
   ]
  },
  {
   "cell_type": "code",
   "execution_count": 3,
   "metadata": {},
   "outputs": [],
   "source": [
    "# flatten 3D array to 2D dataframe\n",
    "sst = monthly_atmo['SST_Pacif']\n",
    "obs_lats = monthly_atmo['lat'][0]\n",
    "obs_lons = monthly_atmo['lon'][0]\n",
    "flat_df = flatten_series(sst, obs_lats, obs_lons, 'monthly', 79, 1940)\n",
    "flat_df['var'] = 'sst'\n",
    "flat_df['val'] = flat_df.temp"
   ]
  },
  {
   "cell_type": "code",
   "execution_count": 7,
   "metadata": {},
   "outputs": [],
   "source": [
    "# drop nulls (over land)\n",
    "df = flat_df\n",
    "df = df.dropna()\n",
    "df[df.month.isin(['july', 'aug', 'sept', 'oct'])].to_csv('../data/SST_pacific_summer.csv', index=False)"
   ]
  },
  {
   "cell_type": "code",
   "execution_count": 10,
   "metadata": {},
   "outputs": [],
   "source": [
    "# separately detrend train/test periods\n",
    "X_train, fts_obs = detrend_and_scale(df, 1940, 1989)\n",
    "X_test, _ = detrend_and_scale(df, 1990, 2019)"
   ]
  },
  {
   "cell_type": "markdown",
   "metadata": {},
   "source": [
    "# LENS\n",
    "\n",
    "#### Download raw data [here](https://drive.google.com/drive/u/1/folders/1ddwOm4wIt6A8-_y9KxI0OdSTqTamhK8i)\n",
    "\n",
    "The file 'surf_temp.mat' includes monthly data of surface temperature (in Kelvin) over the Pacific Ocean during 01/1920-12/2005, for all 40 ensembles from LENS.\n",
    "\n",
    "The Pacific has been defined as:\n",
    "\n",
    "   - Latitudes: 60S-60N\n",
    "   - Longitudes: 80E-280E\n",
    "   \n",
    "Particularly, the file 'surf_temp.mat' contains: \n",
    "\n",
    "   - 4D matrix 'TS': 128 by 161 by 1032 by 40\n",
    "   - vector 'lat': 128 by 1 which corresponds to the latitudinal points over Pacific \n",
    "   - vector 'lon': 161 by 1 which corresponds to the longitudinal points over Pacific "
   ]
  },
  {
   "cell_type": "code",
   "execution_count": 11,
   "metadata": {},
   "outputs": [],
   "source": [
    "# load .mat file\n",
    "surf_temp = {}\n",
    "with h5py.File('/Users/abbystevens/Downloads/surf_temp.mat', 'r') as f:\n",
    "    for k, v in f.items():\n",
    "        surf_temp[k] = np.array(v)"
   ]
  },
  {
   "cell_type": "code",
   "execution_count": 12,
   "metadata": {},
   "outputs": [
    {
     "data": {
      "text/plain": [
       "(40, 1032, 161, 128)"
      ]
     },
     "execution_count": 12,
     "metadata": {},
     "output_type": "execute_result"
    }
   ],
   "source": [
    "surf_temp['TS'].shape"
   ]
  },
  {
   "cell_type": "markdown",
   "metadata": {},
   "source": [
    "First, we interpolate LENS onto the same grid as the observations"
   ]
  },
  {
   "cell_type": "code",
   "execution_count": 13,
   "metadata": {},
   "outputs": [],
   "source": [
    "from scipy.interpolate import RegularGridInterpolator\n",
    "\n",
    "lats = surf_temp['lat'][0].copy() #128\n",
    "lons = surf_temp['lon'][0].copy() #161\n",
    "\n",
    "# define grid to interpolate \n",
    "x = lons.copy()\n",
    "y = lats.copy()\n",
    "z = np.arange(surf_temp['TS'].shape[1])\n",
    "\n",
    "# create grid to interpolate onto\n",
    "pts = np.array([i for i in itertools.product(z, obs_lons, obs_lats)])\n",
    "\n",
    "iLENS = np.zeros((40, z.shape[0], obs_lons.shape[0], obs_lats.shape[0])) #initialize empty array"
   ]
  },
  {
   "cell_type": "code",
   "execution_count": 14,
   "metadata": {},
   "outputs": [
    {
     "name": "stdout",
     "output_type": "stream",
     "text": [
      "0\n",
      "10\n",
      "20\n",
      "30\n"
     ]
    }
   ],
   "source": [
    "# iterate through trajectories and interpolate\n",
    "for i in range(40):\n",
    "    if i%10==0: print(i)\n",
    "    lens = surf_temp['TS'][i] # extract ith trajectory\n",
    "    rgi = RegularGridInterpolator((z, x, y), lens, bounds_error=False, fill_value=None) #train interpolator\n",
    "    ilens = rgi(pts).reshape(z.shape[0], obs_lons.shape[0], obs_lats.shape[0]) #interpolate onto new points\n",
    "    iLENS[i] = ilens"
   ]
  },
  {
   "cell_type": "code",
   "execution_count": 18,
   "metadata": {},
   "outputs": [
    {
     "name": "stdout",
     "output_type": "stream",
     "text": [
      "10\n",
      "20\n",
      "30\n"
     ]
    }
   ],
   "source": [
    "lens = iLENS[0]\n",
    "lens_df = flatten_lens(lens, obs_lats, obs_lons, 1920)\n",
    "lens_df['trajectory'] = 0\n",
    "lens_df = lens_df[lens_df.month.isin(['july', 'aug', 'sept', 'oct'])]\n",
    "for i in range(1,40):\n",
    "    if i%10 == 0:\n",
    "        print(i)\n",
    "    lens = iLENS[i]\n",
    "    flat_df = flatten_lens(lens, obs_lats, obs_lons, 1920)\n",
    "    flat_df = flat_df[flat_df.month.isin(['july', 'aug', 'sept', 'oct'])]\n",
    "    flat_df['trajectory'] = i\n",
    "    lens_df = lens_df.append(flat_df, ignore_index=True)"
   ]
  },
  {
   "cell_type": "code",
   "execution_count": 26,
   "metadata": {},
   "outputs": [
    {
     "name": "stdout",
     "output_type": "stream",
     "text": [
      "finished 10\n",
      "finished 20\n",
      "finished 30\n",
      "done\n"
     ]
    }
   ],
   "source": [
    "lens0 = lens_df[lens_df.trajectory==0]\n",
    "Xlens, fts_lens = detrend_and_scale(lens0, 1940, 1989)\n",
    "for i in range(1, 40):\n",
    "    if i%10==0: print('finished ', i)\n",
    "    lensi = lens_df[lens_df.trajectory==i]\n",
    "    Xi, _ = detrend_and_scale(lensi, 1940, 1989)\n",
    "    Xlens = np.vstack([Xlens, Xi])\n",
    "print('done')"
   ]
  },
  {
   "cell_type": "markdown",
   "metadata": {},
   "source": [
    "#### Overlap LENS and Obs \n",
    "\n",
    "The land was removed in the obs dataset but not LENS - overlap features for consistency"
   ]
  },
  {
   "cell_type": "code",
   "execution_count": 114,
   "metadata": {},
   "outputs": [],
   "source": [
    "# store indices and merge\n",
    "fts_lens['lens_ix'] = fts_lens.index\n",
    "fts_obs['obs_ix'] = fts_obs.index\n",
    "fts = pd.merge(fts_lens, fts_obs)\n",
    "\n",
    "\n",
    "# remove some additional land\n",
    "fts = fts.loc[~((fts.lon > 250) & (fts.lat > 40))]\n",
    "fts = fts[(fts.lon!=75)&~((fts.lat==-25)&(fts.lon==145))&~((fts.lat==35)&(fts.lon==115))]"
   ]
  },
  {
   "cell_type": "code",
   "execution_count": 117,
   "metadata": {},
   "outputs": [],
   "source": [
    "pd.DataFrame(Xlens[:, fts.lens_ix]).to_csv('../data/Xlens.csv', index=False)\n",
    "pd.DataFrame(X_train[:, fts.obs_ix]).to_csv('../data/X_train.csv', index=False)\n",
    "pd.DataFrame(X_test[:, fts.obs_ix]).to_csv('../data/X_test.csv', index=False)\n",
    "fts.to_csv('../data/sst_cols.csv', index=False)"
   ]
  }
 ],
 "metadata": {
  "kernelspec": {
   "display_name": "Python 3",
   "language": "python",
   "name": "python3"
  },
  "language_info": {
   "codemirror_mode": {
    "name": "ipython",
    "version": 3
   },
   "file_extension": ".py",
   "mimetype": "text/x-python",
   "name": "python",
   "nbconvert_exporter": "python",
   "pygments_lexer": "ipython3",
   "version": "3.7.7"
  }
 },
 "nbformat": 4,
 "nbformat_minor": 4
}
